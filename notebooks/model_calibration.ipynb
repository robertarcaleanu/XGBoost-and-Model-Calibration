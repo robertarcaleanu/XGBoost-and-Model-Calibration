{
 "cells": [
  {
   "cell_type": "code",
   "execution_count": 22,
   "metadata": {},
   "outputs": [],
   "source": [
    "import joblib\n",
    "import os\n",
    "import sys\n",
    "\n",
    "sys.path.append(os.path.abspath(os.path.join('..')))\n",
    "from steps.ingest_data import ingest_data\n",
    "from steps.clean_data import clean_data\n",
    "from steps.model_train import train_model, save_model\n",
    "from steps.evaluation import evaluate_model\n"
   ]
  },
  {
   "cell_type": "code",
   "execution_count": 26,
   "metadata": {},
   "outputs": [],
   "source": [
    "from sklearn.calibration import calibration_curve"
   ]
  },
  {
   "cell_type": "code",
   "execution_count": 20,
   "metadata": {},
   "outputs": [],
   "source": [
    "path_nb = \"C:/Users/rober/OneDrive/Escriptori/DataSets/xgboost-calibration/XGBoost-and-Model-Calibration/\"\n",
    "xgb_model = joblib.load(f\"{path_nb}saved_models/xgb_model.joblib\")"
   ]
  },
  {
   "cell_type": "code",
   "execution_count": 23,
   "metadata": {},
   "outputs": [],
   "source": [
    "# get params from model\n",
    "churn_data = ingest_data(data_path=f\"{path_nb}data/Churn_Modelling.csv\")\n",
    "X_train, X_test, y_train, y_test = clean_data(churn_data)\n",
    "params = xgb_model.get_params()"
   ]
  },
  {
   "cell_type": "code",
   "execution_count": 24,
   "metadata": {},
   "outputs": [],
   "source": [
    "predictions = xgb_model.predict_proba(X_test)\n",
    "prob_pos = predictions[:, 1]"
   ]
  },
  {
   "cell_type": "code",
   "execution_count": 27,
   "metadata": {},
   "outputs": [],
   "source": [
    "fraccion_positivos, media_prob_predicha = calibration_curve(y_test, prob_pos, n_bins=20)"
   ]
  },
  {
   "cell_type": "code",
   "execution_count": null,
   "metadata": {},
   "outputs": [],
   "source": []
  }
 ],
 "metadata": {
  "kernelspec": {
   "display_name": "Python 3",
   "language": "python",
   "name": "python3"
  },
  "language_info": {
   "codemirror_mode": {
    "name": "ipython",
    "version": 3
   },
   "file_extension": ".py",
   "mimetype": "text/x-python",
   "name": "python",
   "nbconvert_exporter": "python",
   "pygments_lexer": "ipython3",
   "version": "3.10.12"
  }
 },
 "nbformat": 4,
 "nbformat_minor": 2
}
